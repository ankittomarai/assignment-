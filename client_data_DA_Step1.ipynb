{
 "cells": [
  {
   "cell_type": "markdown",
   "metadata": {},
   "source": [
    "### Data Analyst Assignmennt Step1 \n",
    "\n",
    "Company is launching new wifi faetures and wants to understand the impact on devices when bands are switched from 2.4GHz and 5GHz respectively.\n",
    "\n",
    "Evalaute the Phy Rate at different RSSI Level\n"
   ]
  },
  {
   "cell_type": "code",
   "execution_count": 1,
   "metadata": {
    "collapsed": true
   },
   "outputs": [],
   "source": [
    "# load the librabries\n",
    "from pyspark import SparkContext, SparkConf\n",
    "from pyspark.sql import SQLContext, SparkSession\n",
    "from pyspark.sql.functions import count, col\n",
    "from pyspark.sql.functions import col, skewness, kurtosis\n",
    "\n",
    "import seaborn as sns\n",
    "import matplotlib.pyplot as plt\n",
    "import pandas as pd"
   ]
  },
  {
   "cell_type": "code",
   "execution_count": 2,
   "metadata": {
    "collapsed": true
   },
   "outputs": [],
   "source": [
    "# Create a Spark context\n",
    "spark = SparkSession.builder.getOrCreate()\n",
    "sqlContext = SQLContext(spark)"
   ]
  },
  {
   "cell_type": "code",
   "execution_count": 3,
   "metadata": {
    "collapsed": true
   },
   "outputs": [],
   "source": [
    "## Loading the data form part1 client sample amd reading it to a dataframe\n",
    "df = sqlContext.read.format(\"csv\").option(\"header\",\"true\").load('client_stats_sample_0225part1.csv')"
   ]
  },
  {
   "cell_type": "code",
   "execution_count": 4,
   "metadata": {},
   "outputs": [
    {
     "data": {
      "text/plain": [
       "350000"
      ]
     },
     "execution_count": 4,
     "metadata": {},
     "output_type": "execute_result"
    }
   ],
   "source": [
    "# how many rows are there in dataset\n",
    "df.count()"
   ]
  },
  {
   "cell_type": "code",
   "execution_count": 5,
   "metadata": {},
   "outputs": [
    {
     "name": "stdout",
     "output_type": "stream",
     "text": [
      "root\n",
      " |-- _c0: string (nullable = true)\n",
      " |-- location_id: string (nullable = true)\n",
      " |-- client_mac: string (nullable = true)\n",
      " |-- freq_band: string (nullable = true)\n",
      " |-- mac_address: string (nullable = true)\n",
      " |-- country: string (nullable = true)\n",
      " |-- vendor_name: string (nullable = true)\n",
      " |-- rssi_percs_25: string (nullable = true)\n",
      " |-- rssi_percs_75: string (nullable = true)\n",
      " |-- isp: string (nullable = true)\n",
      " |-- total_bytes_tx: string (nullable = true)\n",
      " |-- total_bytes_rx: string (nullable = true)\n",
      " |-- ts: string (nullable = true)\n",
      " |-- txWeightedPhyRate: string (nullable = true)\n",
      " |-- rxWeightedPhyRate: string (nullable = true)\n",
      " |-- idtype: string (nullable = true)\n",
      " |-- is_static: string (nullable = true)\n",
      " |-- weighted_prr_tx: string (nullable = true)\n",
      " |-- weighted_prr_rx: string (nullable = true)\n",
      " |-- num_samples: string (nullable = true)\n",
      " |-- is_connected_to_pod: string (nullable = true)\n",
      " |-- pod_serial: string (nullable = true)\n",
      " |-- control_group: string (nullable = true)\n",
      " |-- bandCap2G: string (nullable = true)\n",
      " |-- bandCap5G: string (nullable = true)\n",
      " |-- maxMcs: string (nullable = true)\n",
      " |-- maxNss: string (nullable = true)\n",
      " |-- maxChWidth: string (nullable = true)\n",
      " |-- phyMode: string (nullable = true)\n",
      " |-- isBTMSupported: string (nullable = true)\n",
      "\n"
     ]
    }
   ],
   "source": [
    "# What is the schema of dataframe\n",
    "df.printSchema()"
   ]
  },
  {
   "cell_type": "code",
   "execution_count": 6,
   "metadata": {
    "collapsed": true
   },
   "outputs": [],
   "source": [
    "# _c0 is a noise in the data, so we need to drop it\n",
    "df =df.drop(\"_c0\")"
   ]
  },
  {
   "cell_type": "code",
   "execution_count": 7,
   "metadata": {},
   "outputs": [
    {
     "data": {
      "text/plain": [
       "{'bandCap2G': 21164,\n",
       " 'bandCap5G': 21164,\n",
       " 'client_mac': 0,\n",
       " 'control_group': 329419,\n",
       " 'country': 880,\n",
       " 'freq_band': 0,\n",
       " 'idtype': 22028,\n",
       " 'isBTMSupported': 21164,\n",
       " 'is_connected_to_pod': 0,\n",
       " 'is_static': 220841,\n",
       " 'isp': 880,\n",
       " 'location_id': 0,\n",
       " 'mac_address': 0,\n",
       " 'maxChWidth': 21164,\n",
       " 'maxMcs': 21164,\n",
       " 'maxNss': 21164,\n",
       " 'num_samples': 0,\n",
       " 'phyMode': 21164,\n",
       " 'pod_serial': 349731,\n",
       " 'rssi_percs_25': 367,\n",
       " 'rssi_percs_75': 367,\n",
       " 'rxWeightedPhyRate': 4686,\n",
       " 'total_bytes_rx': 4686,\n",
       " 'total_bytes_tx': 12342,\n",
       " 'ts': 0,\n",
       " 'txWeightedPhyRate': 12342,\n",
       " 'vendor_name': 217871,\n",
       " 'weighted_prr_rx': 4686,\n",
       " 'weighted_prr_tx': 12342}"
      ]
     },
     "execution_count": 7,
     "metadata": {},
     "output_type": "execute_result"
    }
   ],
   "source": [
    "# Are there null values in dataset. Which columns has how many null values\n",
    "# this is very important \n",
    "null_value_counts = {i:df.filter(df[i].isNull()).count() for i in df.columns}\n",
    "null_value_counts"
   ]
  },
  {
   "attachments": {},
   "cell_type": "markdown",
   "metadata": {},
   "source": [
    "#### Features of interest\n",
    "We need to understand the relationship between RSSI and Phy Rate so we will select only relevant features to move forward"
   ]
  },
  {
   "cell_type": "code",
   "execution_count": 8,
   "metadata": {},
   "outputs": [
    {
     "name": "stdout",
     "output_type": "stream",
     "text": [
      "+-------------+-----------------+-----------------+\n",
      "|rssi_percs_25|rxWeightedPhyRate|txWeightedPhyRate|\n",
      "+-------------+-----------------+-----------------+\n",
      "|        -64.0|         85.17462|         88.45363|\n",
      "|        -64.0|       116.114296|        125.81183|\n",
      "|        -64.0|        97.602585|       113.710815|\n",
      "|        -64.0|         93.59775|         98.49928|\n",
      "|        -60.0|        64.956215|        50.702835|\n",
      "|        -61.0|         63.83611|        50.534744|\n",
      "|        -61.0|        61.104904|        49.119404|\n",
      "|        -59.0|           64.735|        54.749767|\n",
      "|        -58.0|         72.22222|         72.22222|\n",
      "|        -57.0|         57.91453|        72.085495|\n",
      "|        -58.0|         72.22222|         72.22221|\n",
      "|        -58.0|         72.22222|         72.22221|\n",
      "|        -47.0|         67.61316|         72.22222|\n",
      "|        -43.0|        36.386463|         72.22207|\n",
      "|        -43.0|        51.480503|         72.22222|\n",
      "|        -45.0|         67.04335|         72.22222|\n",
      "|        -63.0|        285.23965|        509.20633|\n",
      "|        -71.0|        310.35004|         369.6146|\n",
      "|        -67.0|        329.72806|         340.8212|\n",
      "|        -61.0|        415.47208|        437.40192|\n",
      "+-------------+-----------------+-----------------+\n",
      "only showing top 20 rows\n",
      "\n"
     ]
    }
   ],
   "source": [
    "### Select faetures of interest for analysis as descbied in problem\n",
    "df_select = df.select(\"rssi_percs_25\", 'rxWeightedPhyRate', 'txWeightedPhyRate')\n",
    "df_select.show()"
   ]
  },
  {
   "cell_type": "code",
   "execution_count": 9,
   "metadata": {
    "scrolled": true
   },
   "outputs": [
    {
     "name": "stdout",
     "output_type": "stream",
     "text": [
      "This is the value counts for rssi_percs_25\n",
      "+-------------+-----+\n",
      "|rssi_percs_25|count|\n",
      "+-------------+-----+\n",
      "|        -93.0|    4|\n",
      "|        -73.0| 6259|\n",
      "|         -7.0|   15|\n",
      "|        -18.0|  323|\n",
      "|        -62.0|11313|\n",
      "+-------------+-----+\n",
      "only showing top 5 rows\n",
      "\n",
      "This is the value counts for rxWeightedPhyRate\n",
      "+-----------------+-----+\n",
      "|rxWeightedPhyRate|count|\n",
      "+-----------------+-----+\n",
      "|        44.789726|    1|\n",
      "|         34.93622|    1|\n",
      "|         70.48624|    2|\n",
      "|        149.64243|    1|\n",
      "|        373.27084|    1|\n",
      "+-----------------+-----+\n",
      "only showing top 5 rows\n",
      "\n",
      "This is the value counts for txWeightedPhyRate\n",
      "+-----------------+-----+\n",
      "|txWeightedPhyRate|count|\n",
      "+-----------------+-----+\n",
      "|        382.41983|    1|\n",
      "|         93.82679|    1|\n",
      "|         8.618103|    1|\n",
      "|        153.86679|    1|\n",
      "|         708.3972|    1|\n",
      "+-----------------+-----+\n",
      "only showing top 5 rows\n",
      "\n"
     ]
    }
   ],
   "source": [
    "## Let us understand the disctribution of columns for selected dataframe\n",
    "for i in df_select.columns:\n",
    "    print(\"This is the value counts for\", i)\n",
    "    df_select.groupBy(i).count().show(5)"
   ]
  },
  {
   "cell_type": "code",
   "execution_count": 10,
   "metadata": {},
   "outputs": [
    {
     "data": {
      "text/plain": [
       "{'rssi_percs_25': 367, 'rxWeightedPhyRate': 4686, 'txWeightedPhyRate': 12342}"
      ]
     },
     "execution_count": 10,
     "metadata": {},
     "output_type": "execute_result"
    }
   ],
   "source": [
    "# Are there null values in selected faetures. Which columns has how many null values\n",
    "# this is very important \n",
    "null_value_counts_selected = {i:df_select.filter(df_select[i].isNull()).count() for i in df_select.columns}\n",
    "null_value_counts_selected"
   ]
  },
  {
   "cell_type": "code",
   "execution_count": 11,
   "metadata": {},
   "outputs": [],
   "source": [
    "# Let us drop the values which we have missing values \n",
    "# We can also use imputation method \n",
    "df_select = df_select.dropna(how='any')"
   ]
  },
  {
   "attachments": {},
   "cell_type": "markdown",
   "metadata": {},
   "source": [
    "#### Caution - Conversion to Pandas DataFrame is very inefficient but we can see the histogram here"
   ]
  },
  {
   "cell_type": "code",
   "execution_count": 12,
   "metadata": {},
   "outputs": [],
   "source": [
    "# convert to pandas to plot\n",
    "pdf = df_select.toPandas()"
   ]
  },
  {
   "cell_type": "code",
   "execution_count": 13,
   "metadata": {},
   "outputs": [
    {
     "name": "stdout",
     "output_type": "stream",
     "text": [
      "<class 'pandas.core.frame.DataFrame'>\n",
      "RangeIndex: 336064 entries, 0 to 336063\n",
      "Data columns (total 3 columns):\n",
      " #   Column             Non-Null Count   Dtype \n",
      "---  ------             --------------   ----- \n",
      " 0   rssi_percs_25      336064 non-null  object\n",
      " 1   rxWeightedPhyRate  336064 non-null  object\n",
      " 2   txWeightedPhyRate  336064 non-null  object\n",
      "dtypes: object(3)\n",
      "memory usage: 7.7+ MB\n"
     ]
    }
   ],
   "source": [
    "# check if all data in good after conversion\n",
    "pdf.info()"
   ]
  },
  {
   "cell_type": "code",
   "execution_count": 14,
   "metadata": {},
   "outputs": [],
   "source": [
    "# convert values to numeric \n",
    "cols = pdf.columns\n",
    "pdf[cols] = pdf[cols].apply(pd.to_numeric, errors='coerce', axis=1)"
   ]
  },
  {
   "cell_type": "code",
   "execution_count": 15,
   "metadata": {
    "collapsed": true
   },
   "outputs": [],
   "source": [
    "### Dropn na values\n",
    "pdf = pdf.dropna()"
   ]
  },
  {
   "cell_type": "code",
   "execution_count": 16,
   "metadata": {},
   "outputs": [
    {
     "data": {
      "image/png": "[encoded data removed]",
      "text/plain": [
       "<Figure size 432x288 with 1 Axes>"
      ]
     },
     "metadata": {},
     "output_type": "display_data"
    }
   ],
   "source": [
    "# plot for histgram for rxWeightedPhyRate\n",
    "plt.title(\"This is distribution of rxWeightedPhyRate\")\n",
    "sns.histplot(pdf['rxWeightedPhyRate'])\n",
    "plt.show()"
   ]
  },
  {
   "cell_type": "code",
   "execution_count": 17,
   "metadata": {},
   "outputs": [
    {
     "data": {
      "image/png": "[encoded data removed]",
      "text/plain": [
       "<Figure size 432x288 with 1 Axes>"
      ]
     },
     "metadata": {},
     "output_type": "display_data"
    }
   ],
   "source": [
    "# plot for histgram for rssi_percs_25\n",
    "plt.title(\"This is distribution of rssi_percs_25\")\n",
    "sns.histplot(pdf['rssi_percs_25'])    \n",
    "plt.show()"
   ]
  },
  {
   "cell_type": "code",
   "execution_count": 18,
   "metadata": {},
   "outputs": [
    {
     "data": {
      "image/png": "[encoded data removed]",
      "text/plain": [
       "<Figure size 432x288 with 1 Axes>"
      ]
     },
     "metadata": {},
     "output_type": "display_data"
    }
   ],
   "source": [
    "# plot for histgram for txWeightedPhyRate\n",
    "plt.title(\"This is distribution of txWeightedPhyRate\")\n",
    "sns.histplot(pdf['txWeightedPhyRate'])\n",
    "plt.show()"
   ]
  },
  {
   "cell_type": "markdown",
   "metadata": {},
   "source": [
    "#### Produce a histgram for average of tx and rx weighted phy rate between -85 and -65 db in 1 db steps"
   ]
  },
  {
   "cell_type": "code",
   "execution_count": 19,
   "metadata": {},
   "outputs": [
    {
     "name": "stderr",
     "output_type": "stream",
     "text": [
      "C:\\Users\\ankit.t\\AppData\\Local\\conda\\conda\\envs\\my_root\\lib\\site-packages\\ipykernel_launcher.py:2: FutureWarning: Indexing with multiple keys (implicitly converted to a tuple of keys) will be deprecated, use a list instead.\n",
      "  \n"
     ]
    }
   ],
   "source": [
    "# Create a new dataframe with the given condition\n",
    "conditional_df = (pdf[pdf['rssi_percs_25'].between(-85, -65, inclusive=True)]).\\\n",
    "        groupby('rssi_percs_25')['rxWeightedPhyRate', 'txWeightedPhyRate', 'rssi_percs_25'].\\\n",
    "        mean()"
   ]
  },
  {
   "cell_type": "code",
   "execution_count": 20,
   "metadata": {},
   "outputs": [
    {
     "name": "stdout",
     "output_type": "stream",
     "text": [
      "The shape of the dataframe (21, 3)\n"
     ]
    }
   ],
   "source": [
    "# Let us validate the aggrgated values\n",
    "print(\"The shape of the dataframe\", conditional_df.shape)"
   ]
  },
  {
   "cell_type": "code",
   "execution_count": 21,
   "metadata": {},
   "outputs": [
    {
     "data": {
      "text/html": [
       "<div>\n",
       "<style scoped>\n",
       "    .dataframe tbody tr th:only-of-type {\n",
       "        vertical-align: middle;\n",
       "    }\n",
       "\n",
       "    .dataframe tbody tr th {\n",
       "        vertical-align: top;\n",
       "    }\n",
       "\n",
       "    .dataframe thead th {\n",
       "        text-align: right;\n",
       "    }\n",
       "</style>\n",
       "<table border=\"1\" class=\"dataframe\">\n",
       "  <thead>\n",
       "    <tr style=\"text-align: right;\">\n",
       "      <th></th>\n",
       "      <th>rxWeightedPhyRate</th>\n",
       "      <th>txWeightedPhyRate</th>\n",
       "      <th>rssi_percs_25</th>\n",
       "    </tr>\n",
       "    <tr>\n",
       "      <th>rssi_percs_25</th>\n",
       "      <th></th>\n",
       "      <th></th>\n",
       "      <th></th>\n",
       "    </tr>\n",
       "  </thead>\n",
       "  <tbody>\n",
       "    <tr>\n",
       "      <th>-85.0</th>\n",
       "      <td>20.724570</td>\n",
       "      <td>41.772198</td>\n",
       "      <td>-85.0</td>\n",
       "    </tr>\n",
       "    <tr>\n",
       "      <th>-84.0</th>\n",
       "      <td>22.531496</td>\n",
       "      <td>45.422143</td>\n",
       "      <td>-84.0</td>\n",
       "    </tr>\n",
       "    <tr>\n",
       "      <th>-83.0</th>\n",
       "      <td>30.234468</td>\n",
       "      <td>62.029376</td>\n",
       "      <td>-83.0</td>\n",
       "    </tr>\n",
       "    <tr>\n",
       "      <th>-82.0</th>\n",
       "      <td>37.133368</td>\n",
       "      <td>77.736202</td>\n",
       "      <td>-82.0</td>\n",
       "    </tr>\n",
       "    <tr>\n",
       "      <th>-81.0</th>\n",
       "      <td>46.297916</td>\n",
       "      <td>100.945095</td>\n",
       "      <td>-81.0</td>\n",
       "    </tr>\n",
       "    <tr>\n",
       "      <th>-80.0</th>\n",
       "      <td>50.932706</td>\n",
       "      <td>97.809913</td>\n",
       "      <td>-80.0</td>\n",
       "    </tr>\n",
       "    <tr>\n",
       "      <th>-79.0</th>\n",
       "      <td>55.780964</td>\n",
       "      <td>100.486527</td>\n",
       "      <td>-79.0</td>\n",
       "    </tr>\n",
       "    <tr>\n",
       "      <th>-78.0</th>\n",
       "      <td>62.026563</td>\n",
       "      <td>102.941965</td>\n",
       "      <td>-78.0</td>\n",
       "    </tr>\n",
       "    <tr>\n",
       "      <th>-77.0</th>\n",
       "      <td>70.152202</td>\n",
       "      <td>107.798517</td>\n",
       "      <td>-77.0</td>\n",
       "    </tr>\n",
       "    <tr>\n",
       "      <th>-76.0</th>\n",
       "      <td>77.321600</td>\n",
       "      <td>118.116258</td>\n",
       "      <td>-76.0</td>\n",
       "    </tr>\n",
       "    <tr>\n",
       "      <th>-75.0</th>\n",
       "      <td>83.478155</td>\n",
       "      <td>123.810949</td>\n",
       "      <td>-75.0</td>\n",
       "    </tr>\n",
       "    <tr>\n",
       "      <th>-74.0</th>\n",
       "      <td>90.874479</td>\n",
       "      <td>128.368536</td>\n",
       "      <td>-74.0</td>\n",
       "    </tr>\n",
       "    <tr>\n",
       "      <th>-73.0</th>\n",
       "      <td>95.646525</td>\n",
       "      <td>133.764686</td>\n",
       "      <td>-73.0</td>\n",
       "    </tr>\n",
       "    <tr>\n",
       "      <th>-72.0</th>\n",
       "      <td>98.842706</td>\n",
       "      <td>137.095113</td>\n",
       "      <td>-72.0</td>\n",
       "    </tr>\n",
       "    <tr>\n",
       "      <th>-71.0</th>\n",
       "      <td>107.025719</td>\n",
       "      <td>143.483131</td>\n",
       "      <td>-71.0</td>\n",
       "    </tr>\n",
       "    <tr>\n",
       "      <th>-70.0</th>\n",
       "      <td>111.858676</td>\n",
       "      <td>148.324868</td>\n",
       "      <td>-70.0</td>\n",
       "    </tr>\n",
       "    <tr>\n",
       "      <th>-69.0</th>\n",
       "      <td>121.798275</td>\n",
       "      <td>153.156525</td>\n",
       "      <td>-69.0</td>\n",
       "    </tr>\n",
       "    <tr>\n",
       "      <th>-68.0</th>\n",
       "      <td>133.744737</td>\n",
       "      <td>160.758930</td>\n",
       "      <td>-68.0</td>\n",
       "    </tr>\n",
       "    <tr>\n",
       "      <th>-67.0</th>\n",
       "      <td>150.524014</td>\n",
       "      <td>175.714803</td>\n",
       "      <td>-67.0</td>\n",
       "    </tr>\n",
       "    <tr>\n",
       "      <th>-66.0</th>\n",
       "      <td>177.589073</td>\n",
       "      <td>202.217780</td>\n",
       "      <td>-66.0</td>\n",
       "    </tr>\n",
       "    <tr>\n",
       "      <th>-65.0</th>\n",
       "      <td>199.283835</td>\n",
       "      <td>221.449454</td>\n",
       "      <td>-65.0</td>\n",
       "    </tr>\n",
       "  </tbody>\n",
       "</table>\n",
       "</div>"
      ],
      "text/plain": [
       "               rxWeightedPhyRate  txWeightedPhyRate  rssi_percs_25\n",
       "rssi_percs_25                                                     \n",
       "-85.0                  20.724570          41.772198          -85.0\n",
       "-84.0                  22.531496          45.422143          -84.0\n",
       "-83.0                  30.234468          62.029376          -83.0\n",
       "-82.0                  37.133368          77.736202          -82.0\n",
       "-81.0                  46.297916         100.945095          -81.0\n",
       "-80.0                  50.932706          97.809913          -80.0\n",
       "-79.0                  55.780964         100.486527          -79.0\n",
       "-78.0                  62.026563         102.941965          -78.0\n",
       "-77.0                  70.152202         107.798517          -77.0\n",
       "-76.0                  77.321600         118.116258          -76.0\n",
       "-75.0                  83.478155         123.810949          -75.0\n",
       "-74.0                  90.874479         128.368536          -74.0\n",
       "-73.0                  95.646525         133.764686          -73.0\n",
       "-72.0                  98.842706         137.095113          -72.0\n",
       "-71.0                 107.025719         143.483131          -71.0\n",
       "-70.0                 111.858676         148.324868          -70.0\n",
       "-69.0                 121.798275         153.156525          -69.0\n",
       "-68.0                 133.744737         160.758930          -68.0\n",
       "-67.0                 150.524014         175.714803          -67.0\n",
       "-66.0                 177.589073         202.217780          -66.0\n",
       "-65.0                 199.283835         221.449454          -65.0"
      ]
     },
     "execution_count": 21,
     "metadata": {},
     "output_type": "execute_result"
    }
   ],
   "source": [
    "# print the complete dataframe \n",
    "conditional_df.head(30)"
   ]
  },
  {
   "cell_type": "markdown",
   "metadata": {},
   "source": [
    "### We have 21 values "
   ]
  },
  {
   "cell_type": "markdown",
   "metadata": {},
   "source": [
    "## Histogram for columns "
   ]
  },
  {
   "cell_type": "code",
   "execution_count": 22,
   "metadata": {},
   "outputs": [
    {
     "data": {
      "image/png": "[encoded data removed]",
      "text/plain": [
       "<Figure size 432x288 with 1 Axes>"
      ]
     },
     "metadata": {},
     "output_type": "display_data"
    }
   ],
   "source": [
    "# plot histogram for the output -rxWeightedPhyRate\n",
    "plt.title(\"This is distribution of rxWeightedPhyRate aggre. histogram\")\n",
    "num_bins = 21\n",
    "n, bins, patches = plt.hist(conditional_df['rxWeightedPhyRate'], num_bins)\n",
    "plt.show()"
   ]
  },
  {
   "cell_type": "code",
   "execution_count": 23,
   "metadata": {},
   "outputs": [
    {
     "data": {
      "image/png": "[encoded data removed]",
      "text/plain": [
       "<Figure size 432x288 with 1 Axes>"
      ]
     },
     "metadata": {},
     "output_type": "display_data"
    }
   ],
   "source": [
    "# plot histogram for the output -rxWeightedPhyRate\n",
    "plt.title(\"This is distribution of txWeightedPhyRate aggre. histogram\")\n",
    "num_bins = 21\n",
    "n, bins, patches = plt.hist(conditional_df['txWeightedPhyRate'], num_bins)\n",
    "plt.show()"
   ]
  },
  {
   "cell_type": "code",
   "execution_count": 24,
   "metadata": {},
   "outputs": [
    {
     "name": "stderr",
     "output_type": "stream",
     "text": [
      "C:\\Users\\ankit.t\\AppData\\Local\\conda\\conda\\envs\\my_root\\lib\\site-packages\\seaborn\\_decorators.py:43: FutureWarning: Pass the following variables as keyword args: x, y. From version 0.12, the only valid positional argument will be `data`, and passing other arguments without an explicit keyword will result in an error or misinterpretation.\n",
      "  FutureWarning\n"
     ]
    },
    {
     "data": {
      "image/png": "[encoded data removed]",
      "text/plain": [
       "<Figure size 720x360 with 1 Axes>"
      ]
     },
     "metadata": {},
     "output_type": "display_data"
    }
   ],
   "source": [
    "## ready for graph\n",
    "x = conditional_df['rssi_percs_25'].values.tolist()\n",
    "y = conditional_df['rxWeightedPhyRate'].values.tolist()\n",
    "\n",
    "# plot for histgram for rxWeightedPhyRate\n",
    "plt.figure(figsize=(10, 5))\n",
    "plt.title(\"This is distribution of rxWeightedPhyRate\")\n",
    "sns.barplot(x, y)\n",
    "plt.show()"
   ]
  },
  {
   "cell_type": "code",
   "execution_count": 25,
   "metadata": {},
   "outputs": [
    {
     "name": "stderr",
     "output_type": "stream",
     "text": [
      "C:\\Users\\ankit.t\\AppData\\Local\\conda\\conda\\envs\\my_root\\lib\\site-packages\\seaborn\\_decorators.py:43: FutureWarning: Pass the following variables as keyword args: x, y. From version 0.12, the only valid positional argument will be `data`, and passing other arguments without an explicit keyword will result in an error or misinterpretation.\n",
      "  FutureWarning\n"
     ]
    },
    {
     "data": {
      "image/png": "[encoded data removed]",
      "text/plain": [
       "<Figure size 720x360 with 1 Axes>"
      ]
     },
     "metadata": {},
     "output_type": "display_data"
    }
   ],
   "source": [
    "## ready for graph\n",
    "x = conditional_df['rssi_percs_25'].values.tolist()\n",
    "y = conditional_df['txWeightedPhyRate'].values.tolist()\n",
    "\n",
    "# plot for histgram for txWeightedPhyRate\n",
    "plt.figure(figsize=(10, 5))\n",
    "plt.title(\"This is distribution of txWeightedPhyRate\")\n",
    "sns.barplot(x, y)\n",
    "plt.show()"
   ]
  },
  {
   "cell_type": "markdown",
   "metadata": {},
   "source": [
    "#### Data Export \n",
    "### Data export to csv for logstash >> ElasticSearch >> Grafana"
   ]
  },
  {
   "cell_type": "code",
   "execution_count": 26,
   "metadata": {
    "collapsed": true
   },
   "outputs": [],
   "source": [
    "# Data export to csv \n",
    "conditional_df.to_csv(\"data_for_logstash.csv\")"
   ]
  },
  {
   "cell_type": "markdown",
   "metadata": {},
   "source": [
    "### Next steps"
   ]
  },
  {
   "cell_type": "markdown",
   "metadata": {},
   "source": [
    "### Missing values Treatment\n",
    "All features are having missing values, SO we need to include imputation method for these values \n",
    "\n",
    "Before taking a decision, let us look upon the statistical properties of the dataset "
   ]
  },
  {
   "cell_type": "code",
   "execution_count": 27,
   "metadata": {},
   "outputs": [
    {
     "name": "stdout",
     "output_type": "stream",
     "text": [
      "+-------+------------------+------------------+-----------------+\n",
      "|summary|     rssi_percs_25| rxWeightedPhyRate|txWeightedPhyRate|\n",
      "+-------+------------------+------------------+-----------------+\n",
      "|  count|            336064|            336064|           336064|\n",
      "|   mean|-58.37236062178633|268.36373403396084|285.7291826124183|\n",
      "| stddev|12.709362017567964| 270.4578811967436|268.5928210988447|\n",
      "|    min|             -10.0|               0.0|              0.0|\n",
      "|    max|              32.0|         999.54034|         999.9521|\n",
      "+-------+------------------+------------------+-----------------+\n",
      "\n"
     ]
    }
   ],
   "source": [
    "df_select.describe().show()"
   ]
  },
  {
   "cell_type": "markdown",
   "metadata": {},
   "source": [
    "## As output of the last function shows, we can take below decisions\n",
    "1. rssi_percs_25 - This  feature needs to imputed with median \n",
    "2. rxWeightedPhyRate and txWeightedPhyRate can be imputed with mean values"
   ]
  },
  {
   "cell_type": "code",
   "execution_count": 28,
   "metadata": {},
   "outputs": [
    {
     "name": "stdout",
     "output_type": "stream",
     "text": [
      "+---------------------------+---------------------------+\n",
      "|skewness(rxWeightedPhyRate)|kurtosis(rxWeightedPhyRate)|\n",
      "+---------------------------+---------------------------+\n",
      "|         1.1461276845505461|         0.3103299329132323|\n",
      "+---------------------------+---------------------------+\n",
      "\n"
     ]
    }
   ],
   "source": [
    "# perform more tests and check the properties\n",
    "df_select.select(skewness(\"rxWeightedPhyRate\"),kurtosis(\"rxWeightedPhyRate\")).show()"
   ]
  },
  {
   "cell_type": "code",
   "execution_count": null,
   "metadata": {
    "collapsed": true
   },
   "outputs": [],
   "source": []
  }
 ],
 "metadata": {
  "kernelspec": {
   "display_name": "Python 3",
   "language": "python",
   "name": "python3"
  },
  "language_info": {
   "codemirror_mode": {
    "name": "ipython",
    "version": 3
   },
   "file_extension": ".py",
   "mimetype": "text/x-python",
   "name": "python",
   "nbconvert_exporter": "python",
   "pygments_lexer": "ipython3",
   "version": "3.6.12"
  }
 },
 "nbformat": 4,
 "nbformat_minor": 2
}
