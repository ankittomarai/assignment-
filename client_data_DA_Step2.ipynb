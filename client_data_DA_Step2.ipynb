{
 "cells": [
  {
   "cell_type": "markdown",
   "metadata": {},
   "source": [
    "### Data Analyst Assignment Step2\n",
    "\n",
    "Evaluate RSSI threshold\n",
    "\n",
    "1. Using the client stats sample data provided to you calculate what % of devices are connected 2.4 GHz and 5 \n",
    "\n",
    "2. As per the given conditions, (Mentioned in pdf), Calculate what % of devices that will be on 2.4GHz and 5GHz using as per condition. Will we gain more 5GHz?\n"
   ]
  },
  {
   "cell_type": "code",
   "execution_count": 1,
   "metadata": {},
   "outputs": [],
   "source": [
    "# load the librabries\n",
    "from pyspark import SparkContext, SparkConf\n",
    "from pyspark.sql import SQLContext, SparkSession\n",
    "from pyspark.sql.functions import count, col, when"
   ]
  },
  {
   "cell_type": "code",
   "execution_count": 2,
   "metadata": {
    "collapsed": true
   },
   "outputs": [],
   "source": [
    "# Create a Spark context\n",
    "spark = SparkSession.builder.getOrCreate()\n",
    "sqlContext = SQLContext(spark)"
   ]
  },
  {
   "cell_type": "code",
   "execution_count": 3,
   "metadata": {
    "collapsed": true
   },
   "outputs": [],
   "source": [
    "## Loading the data form part2 client sample amd reading it to a dataframe\n",
    "df = sqlContext.read.format(\"csv\").option(\"header\",\"true\").load('client_stats_sample_0225part2.csv')"
   ]
  },
  {
   "cell_type": "code",
   "execution_count": 4,
   "metadata": {},
   "outputs": [
    {
     "data": {
      "text/plain": [
       "350596"
      ]
     },
     "execution_count": 4,
     "metadata": {},
     "output_type": "execute_result"
    }
   ],
   "source": [
    "# how many rows are there in dataset\n",
    "df.count()"
   ]
  },
  {
   "cell_type": "code",
   "execution_count": 5,
   "metadata": {},
   "outputs": [
    {
     "name": "stdout",
     "output_type": "stream",
     "text": [
      "root\n",
      " |-- _c0: string (nullable = true)\n",
      " |-- location_id: string (nullable = true)\n",
      " |-- client_mac: string (nullable = true)\n",
      " |-- freq_band: string (nullable = true)\n",
      " |-- mac_address: string (nullable = true)\n",
      " |-- country: string (nullable = true)\n",
      " |-- vendor_name: string (nullable = true)\n",
      " |-- rssi_percs_25: string (nullable = true)\n",
      " |-- rssi_percs_75: string (nullable = true)\n",
      " |-- isp: string (nullable = true)\n",
      " |-- total_bytes_tx: string (nullable = true)\n",
      " |-- total_bytes_rx: string (nullable = true)\n",
      " |-- ts: string (nullable = true)\n",
      " |-- txWeightedPhyRate: string (nullable = true)\n",
      " |-- rxWeightedPhyRate: string (nullable = true)\n",
      " |-- idtype: string (nullable = true)\n",
      " |-- is_static: string (nullable = true)\n",
      " |-- weighted_prr_tx: string (nullable = true)\n",
      " |-- weighted_prr_rx: string (nullable = true)\n",
      " |-- num_samples: string (nullable = true)\n",
      " |-- is_connected_to_pod: string (nullable = true)\n",
      " |-- pod_serial: string (nullable = true)\n",
      " |-- control_group: string (nullable = true)\n",
      " |-- bandCap2G: string (nullable = true)\n",
      " |-- bandCap5G: string (nullable = true)\n",
      " |-- maxMcs: string (nullable = true)\n",
      " |-- maxNss: string (nullable = true)\n",
      " |-- maxChWidth: string (nullable = true)\n",
      " |-- phyMode: string (nullable = true)\n",
      " |-- isBTMSupported: string (nullable = true)\n",
      "\n"
     ]
    }
   ],
   "source": [
    "# What is the schema of dataframe\n",
    "df.printSchema()"
   ]
  },
  {
   "cell_type": "code",
   "execution_count": 6,
   "metadata": {
    "collapsed": true
   },
   "outputs": [],
   "source": [
    "# _c0 is a noise in the data, so we need to drop it\n",
    "df =df.drop(\"_c0\")"
   ]
  },
  {
   "cell_type": "code",
   "execution_count": 7,
   "metadata": {},
   "outputs": [
    {
     "data": {
      "text/plain": [
       "{'bandCap2G': 21287,\n",
       " 'bandCap5G': 21287,\n",
       " 'client_mac': 0,\n",
       " 'control_group': 330687,\n",
       " 'country': 859,\n",
       " 'freq_band': 0,\n",
       " 'idtype': 22465,\n",
       " 'isBTMSupported': 21287,\n",
       " 'is_connected_to_pod': 0,\n",
       " 'is_static': 222911,\n",
       " 'isp': 859,\n",
       " 'location_id': 0,\n",
       " 'mac_address': 0,\n",
       " 'maxChWidth': 21287,\n",
       " 'maxMcs': 21287,\n",
       " 'maxNss': 21287,\n",
       " 'num_samples': 0,\n",
       " 'phyMode': 21287,\n",
       " 'pod_serial': 350246,\n",
       " 'rssi_percs_25': 305,\n",
       " 'rssi_percs_75': 305,\n",
       " 'rxWeightedPhyRate': 5183,\n",
       " 'total_bytes_rx': 5183,\n",
       " 'total_bytes_tx': 14375,\n",
       " 'ts': 0,\n",
       " 'txWeightedPhyRate': 14375,\n",
       " 'vendor_name': 223524,\n",
       " 'weighted_prr_rx': 5183,\n",
       " 'weighted_prr_tx': 14375}"
      ]
     },
     "execution_count": 7,
     "metadata": {},
     "output_type": "execute_result"
    }
   ],
   "source": [
    "# Are there null values in dataset. Which columns has how many null values?\n",
    "# this is very important \n",
    "null_value_counts = {i:df.filter(df[i].isNull()).count() for i in df.columns}\n",
    "null_value_counts"
   ]
  },
  {
   "cell_type": "markdown",
   "metadata": {},
   "source": [
    "Yes there are many null values but lets decide later for imputation"
   ]
  },
  {
   "cell_type": "markdown",
   "metadata": {},
   "source": [
    "#### Features of interest\n",
    "We need to understand the relationship between RSSI and Freq_band but we need to also consider the devices (mac addresses for wifi and mac address for client (client can be any connected device such as phone, TV, laptop etc.) \n"
   ]
  },
  {
   "cell_type": "code",
   "execution_count": 8,
   "metadata": {},
   "outputs": [
    {
     "name": "stdout",
     "output_type": "stream",
     "text": [
      "+--------------------+--------------------+---------+-------------+\n",
      "|         mac_address|          client_mac|freq_band|rssi_percs_25|\n",
      "+--------------------+--------------------+---------+-------------+\n",
      "|5b969ea8efcc5d3e1...|81294f9c314119e79...|       5G|        -62.0|\n",
      "|9cd4189fefcd878d5...|c544851fa0c7d8450...|       5G|        -37.0|\n",
      "|9cd4189fefcd878d5...|c544851fa0c7d8450...|       5G|        -37.0|\n",
      "|9cd4189fefcd878d5...|c544851fa0c7d8450...|       5G|        -37.0|\n",
      "|9cd4189fefcd878d5...|c544851fa0c7d8450...|       5G|        -37.0|\n",
      "|c6ecd62a6319f6790...|412adb9ac900c7125...|     2.4G|        -61.0|\n",
      "|c6ecd62a6319f6790...|412adb9ac900c7125...|     2.4G|        -61.0|\n",
      "|c6ecd62a6319f6790...|412adb9ac900c7125...|     2.4G|        -61.0|\n",
      "|c6ecd62a6319f6790...|412adb9ac900c7125...|     2.4G|        -61.0|\n",
      "|c897d58e4c62b048d...|5d3fb54faf8938363...|       5G|        -38.0|\n",
      "|c897d58e4c62b048d...|5d3fb54faf8938363...|       5G|        -38.0|\n",
      "|c897d58e4c62b048d...|5d3fb54faf8938363...|       5G|        -38.0|\n",
      "|c897d58e4c62b048d...|5d3fb54faf8938363...|       5G|        -38.0|\n",
      "|a7cb3da23191f1170...|a0b7a99b6ab999ba3...|       5G|        -57.0|\n",
      "|a7cb3da23191f1170...|a0b7a99b6ab999ba3...|       5G|        -53.0|\n",
      "|a7cb3da23191f1170...|a0b7a99b6ab999ba3...|       5G|        -58.0|\n",
      "|a7cb3da23191f1170...|a0b7a99b6ab999ba3...|       5G|        -53.0|\n",
      "|a7cb3da23191f1170...|a84c55c3626272281...|     2.4G|        -73.0|\n",
      "|7bb63b62e90746995...|bd09ae1155b9e092c...|       5G|        -25.0|\n",
      "|7bb63b62e90746995...|bd09ae1155b9e092c...|       5G|        -25.0|\n",
      "+--------------------+--------------------+---------+-------------+\n",
      "only showing top 20 rows\n",
      "\n"
     ]
    }
   ],
   "source": [
    "### Select features of interest for analysis as descbied in problem\n",
    "df_select = df.select(\"mac_address\", \"client_mac\",\"freq_band\",\"rssi_percs_25\")\n",
    "df_select.show()"
   ]
  },
  {
   "cell_type": "code",
   "execution_count": 9,
   "metadata": {},
   "outputs": [
    {
     "name": "stdout",
     "output_type": "stream",
     "text": [
      "+---------------------+----+---+\n",
      "|mac_address_freq_band|2.4G| 5G|\n",
      "+---------------------+----+---+\n",
      "| f623bb4e5415c487b...| 240| 84|\n",
      "| 05a7c9001714c2215...| 145|465|\n",
      "| 97c19d8021d8c248a...| 121|114|\n",
      "| 07d0ed1e38cf230a9...|  94|273|\n",
      "| 956470c5c6b408571...| 398|580|\n",
      "| 7dc74fb0d808e98b3...| 174|123|\n",
      "| 824fecede0044b33f...| 736|381|\n",
      "| 198591b836dbdb12b...|  51| 45|\n",
      "| 51a12a54c04087ddf...| 278|279|\n",
      "| 1e31684fd98d43901...| 147|253|\n",
      "| 92c4528559e7c6ed5...|  75|275|\n",
      "| 679be718426c02f63...| 126|125|\n",
      "| 1a0c27c5ef0dbac69...| 451|339|\n",
      "| b3499d63cf64ba727...| 518|164|\n",
      "| 8157d52bf2fe92f79...|  78|244|\n",
      "| 5f1fc100d3bd50eab...|   0| 42|\n",
      "| 02285fd68e5bd179a...| 402| 48|\n",
      "| fa4ac56da9097c73d...|   0| 96|\n",
      "| a8dc46dda36ca21f5...| 134|225|\n",
      "| 24d3ea68d8ef89770...| 249|175|\n",
      "+---------------------+----+---+\n",
      "only showing top 20 rows\n",
      "\n"
     ]
    }
   ],
   "source": [
    "# Let us understand distribution of freq_band within the wifi mac\n",
    "# Assumption : Mac address is for eifi device\n",
    "df.stat.crosstab(\"mac_address\", \"freq_band\").show()"
   ]
  },
  {
   "cell_type": "code",
   "execution_count": 10,
   "metadata": {},
   "outputs": [
    {
     "name": "stdout",
     "output_type": "stream",
     "text": [
      "+--------------------+----+---+\n",
      "|client_mac_freq_band|2.4G| 5G|\n",
      "+--------------------+----+---+\n",
      "|6c108075386b9bac5...|   0| 13|\n",
      "|926b265569cc677b8...|  52|  0|\n",
      "|64aaa39a634c845c3...|   4|  0|\n",
      "|e85310fe4c4d96b7a...|   0| 48|\n",
      "|9694df765bee22177...|   4| 35|\n",
      "|c92150b6204bb09a1...|   0| 48|\n",
      "|991f0219bf779f92c...|   0| 48|\n",
      "|49e4a625381b85b59...|  44|  0|\n",
      "|770bf9fd4898249c9...|  48|  0|\n",
      "|c5cb976ee8161e4e9...|   0| 12|\n",
      "|7644580503a3cf67f...|  48|  0|\n",
      "|03c829e8ae46efe67...|  52|  0|\n",
      "|20c423411d4752114...|   0| 44|\n",
      "|bebf74bee765ed470...|  48|  0|\n",
      "|15b102383f5ab6ac0...|   0| 48|\n",
      "|1151b29fa53a37304...|   9| 43|\n",
      "|468d4950090d9606c...|   0| 52|\n",
      "|40cd4df24ef98b291...|   0| 48|\n",
      "|3cced5d8859dea268...|   1|  7|\n",
      "|ae933e3bbd46c58cc...|   0| 19|\n",
      "+--------------------+----+---+\n",
      "only showing top 20 rows\n",
      "\n"
     ]
    }
   ],
   "source": [
    "#  Let us understand distribution of freq_band within the client mac\n",
    "df.stat.crosstab(\"client_mac\", \"freq_band\").show()"
   ]
  },
  {
   "cell_type": "markdown",
   "metadata": {},
   "source": [
    "## Note\n",
    "There are conditions where one mac address is having entries for both 2.4G and 5G, so this is the case, where I have not considered the groupby with Mac. I am calculating freq_band Vs device % calculation directly\n"
   ]
  },
  {
   "cell_type": "code",
   "execution_count": 11,
   "metadata": {
    "scrolled": true
   },
   "outputs": [
    {
     "name": "stdout",
     "output_type": "stream",
     "text": [
      "This is the value counts for mac_address\n",
      "+--------------------+-----+\n",
      "|         mac_address|count|\n",
      "+--------------------+-----+\n",
      "|8ac49834a5054c6e3...|  757|\n",
      "|d574d684eef28cd14...|  557|\n",
      "|2310fafb4924fda2b...|  534|\n",
      "|576beeed3bdadb939...|  130|\n",
      "|7d5c8ca69132eef8e...|  382|\n",
      "+--------------------+-----+\n",
      "only showing top 5 rows\n",
      "\n",
      "This is the value counts for client_mac\n",
      "+--------------------+-----+\n",
      "|          client_mac|count|\n",
      "+--------------------+-----+\n",
      "|54ff4e897a6b8e66a...|   52|\n",
      "|cba440e81f4959062...|   48|\n",
      "|17a6673982853b3d5...|   48|\n",
      "|ed066a83e420e9efa...|   52|\n",
      "|2d8451e1f833f8b78...|   37|\n",
      "+--------------------+-----+\n",
      "only showing top 5 rows\n",
      "\n",
      "This is the value counts for freq_band\n",
      "+---------+------+\n",
      "|freq_band| count|\n",
      "+---------+------+\n",
      "|     2.4G|159914|\n",
      "|       5G|190682|\n",
      "+---------+------+\n",
      "\n",
      "This is the value counts for rssi_percs_25\n",
      "+-------------+-----+\n",
      "|rssi_percs_25|count|\n",
      "+-------------+-----+\n",
      "|        -93.0|    3|\n",
      "|        -73.0| 6983|\n",
      "|         -7.0|    2|\n",
      "|        -18.0|  414|\n",
      "|        -62.0|12117|\n",
      "+-------------+-----+\n",
      "only showing top 5 rows\n",
      "\n"
     ]
    }
   ],
   "source": [
    "## Let us understand the disctribution of columns\n",
    "for i in df_select.columns:\n",
    "    print(\"This is the value counts for\", i)\n",
    "    df_select.groupBy(i).count().show(5)"
   ]
  },
  {
   "cell_type": "code",
   "execution_count": 12,
   "metadata": {},
   "outputs": [
    {
     "name": "stdout",
     "output_type": "stream",
     "text": [
      "percetage of the 2.4G device in complete dataset 0.45612043491654214\n"
     ]
    }
   ],
   "source": [
    "## Devices per freq_band\n",
    "value_24g = df_select.filter(col(\"freq_band\")=='2.4G').groupBy(\"freq_band\").count()\n",
    "\n",
    "# percetage of the 2.4G device in complete dataset\n",
    "pct_24g = value_24g.select('count').first()[0]/df_select.count()\n",
    "print(\"percetage of the 2.4G device in complete dataset\", pct_24g)"
   ]
  },
  {
   "cell_type": "code",
   "execution_count": 13,
   "metadata": {},
   "outputs": [
    {
     "name": "stdout",
     "output_type": "stream",
     "text": [
      "percetage of the 2.4G device in complete dataset 0.5438795650834579\n"
     ]
    }
   ],
   "source": [
    "## Devices per freq_band\n",
    "value_5g = df_select.filter(col(\"freq_band\")=='5G').groupBy(\"freq_band\").count()\n",
    "\n",
    "# percetage of the 2.4G device in complete dataset\n",
    "pct_5g = value_5g.select('count').first()[0]/df_select.count()\n",
    "print(\"percetage of the 2.4G device in complete dataset\", pct_5g)"
   ]
  },
  {
   "cell_type": "markdown",
   "metadata": {},
   "source": [
    "### Step2 - Implement the new model condition for the freq_band"
   ]
  },
  {
   "cell_type": "code",
   "execution_count": 14,
   "metadata": {},
   "outputs": [
    {
     "data": {
      "text/plain": [
       "{'client_mac': 0, 'freq_band': 0, 'mac_address': 0, 'rssi_percs_25': 305}"
      ]
     },
     "execution_count": 14,
     "metadata": {},
     "output_type": "execute_result"
    }
   ],
   "source": [
    "# Are there null values in dataset. Which columns has how many null values\n",
    "# this is very important \n",
    "null_value_counts = {i:df_select.filter(df[i].isNull()).count() for i in df_select.columns}\n",
    "null_value_counts"
   ]
  },
  {
   "cell_type": "markdown",
   "metadata": {},
   "source": [
    "### Note\n",
    "There are missing values in rssi_percs_25 column. We need to remove null values as it is going to impact the calculated values\n"
   ]
  },
  {
   "cell_type": "code",
   "execution_count": 15,
   "metadata": {
    "collapsed": true
   },
   "outputs": [],
   "source": [
    "# drop the null values\n",
    "df_select = df_select.dropna(how='any')"
   ]
  },
  {
   "cell_type": "code",
   "execution_count": 16,
   "metadata": {},
   "outputs": [],
   "source": [
    "# calculate the values and assigned to new columns\n",
    "final_df = df_select.\\\n",
    "        withColumn(\"new_freq_band\", when((col(\"rssi_percs_25\") >= -60 ) & (col(\"freq_band\")=='2.4G'), \"5G\").\\\n",
    "        when((col(\"rssi_percs_25\") <= -75 ) & (col(\"freq_band\")=='5G'), \"2.4G\").\\\n",
    "                   when((col(\"rssi_percs_25\") > -75 ) & (col(\"freq_band\")=='5G'), \"5G\").\\\n",
    "                   when((col(\"rssi_percs_25\") <= -60 ) & (col(\"freq_band\")=='2.4G'), \"2.4G\").\\\n",
    "                    otherwise(\"ERROR\"))\n",
    "    \n",
    "## Error if any mistake in the dataset"
   ]
  },
  {
   "cell_type": "code",
   "execution_count": 17,
   "metadata": {},
   "outputs": [
    {
     "name": "stdout",
     "output_type": "stream",
     "text": [
      "+--------------------+--------------------+---------+-------------+-------------+\n",
      "|         mac_address|          client_mac|freq_band|rssi_percs_25|new_freq_band|\n",
      "+--------------------+--------------------+---------+-------------+-------------+\n",
      "|5b969ea8efcc5d3e1...|81294f9c314119e79...|       5G|        -62.0|           5G|\n",
      "|9cd4189fefcd878d5...|c544851fa0c7d8450...|       5G|        -37.0|           5G|\n",
      "|9cd4189fefcd878d5...|c544851fa0c7d8450...|       5G|        -37.0|           5G|\n",
      "|9cd4189fefcd878d5...|c544851fa0c7d8450...|       5G|        -37.0|           5G|\n",
      "|9cd4189fefcd878d5...|c544851fa0c7d8450...|       5G|        -37.0|           5G|\n",
      "|c6ecd62a6319f6790...|412adb9ac900c7125...|     2.4G|        -61.0|         2.4G|\n",
      "|c6ecd62a6319f6790...|412adb9ac900c7125...|     2.4G|        -61.0|         2.4G|\n",
      "|c6ecd62a6319f6790...|412adb9ac900c7125...|     2.4G|        -61.0|         2.4G|\n",
      "|c6ecd62a6319f6790...|412adb9ac900c7125...|     2.4G|        -61.0|         2.4G|\n",
      "|c897d58e4c62b048d...|5d3fb54faf8938363...|       5G|        -38.0|           5G|\n",
      "+--------------------+--------------------+---------+-------------+-------------+\n",
      "only showing top 10 rows\n",
      "\n"
     ]
    }
   ],
   "source": [
    "final_df.show(10)"
   ]
  },
  {
   "cell_type": "code",
   "execution_count": 18,
   "metadata": {},
   "outputs": [
    {
     "name": "stdout",
     "output_type": "stream",
     "text": [
      "+---------+------+\n",
      "|freq_band| count|\n",
      "+---------+------+\n",
      "|     2.4G|159668|\n",
      "|       5G|190623|\n",
      "+---------+------+\n",
      "\n"
     ]
    }
   ],
   "source": [
    "# Old model freq_band\n",
    "final_df.groupBy(\"freq_band\").count().show()"
   ]
  },
  {
   "cell_type": "code",
   "execution_count": 19,
   "metadata": {},
   "outputs": [
    {
     "name": "stdout",
     "output_type": "stream",
     "text": [
      "+-------------+------+\n",
      "|new_freq_band| count|\n",
      "+-------------+------+\n",
      "|         2.4G|105754|\n",
      "|           5G|244537|\n",
      "+-------------+------+\n",
      "\n"
     ]
    }
   ],
   "source": [
    "# New model freq_band\n",
    "final_df.groupBy(\"new_freq_band\").count().show()"
   ]
  },
  {
   "cell_type": "markdown",
   "metadata": {},
   "source": [
    "### Caluclate the % value of each category"
   ]
  },
  {
   "cell_type": "code",
   "execution_count": 20,
   "metadata": {},
   "outputs": [
    {
     "name": "stdout",
     "output_type": "stream",
     "text": [
      "percentage of the 2.4G device in complete dataset 0.45581530784404967\n"
     ]
    }
   ],
   "source": [
    "## Devices per freq_band\n",
    "value_24g = final_df.filter(col(\"freq_band\")=='2.4G').groupBy(\"freq_band\").count()\n",
    "pct_24g = value_24g.select('count').first()[0]/final_df.count()\n",
    "print(\"percentage of the 2.4G device in complete dataset\", pct_24g)"
   ]
  },
  {
   "cell_type": "code",
   "execution_count": 21,
   "metadata": {},
   "outputs": [
    {
     "name": "stdout",
     "output_type": "stream",
     "text": [
      "percentage of the 5G device in complete dataset 0.5441846921559503\n"
     ]
    }
   ],
   "source": [
    "## Devices per freq_band\n",
    "value_5g = final_df.filter(col(\"freq_band\")=='5G').groupBy(\"freq_band\").count()\n",
    "pct_5g = value_5g.select('count').first()[0]/final_df.count()\n",
    "print(\"percentage of the 5G device in complete dataset\", pct_5g)"
   ]
  },
  {
   "cell_type": "code",
   "execution_count": 22,
   "metadata": {},
   "outputs": [
    {
     "name": "stdout",
     "output_type": "stream",
     "text": [
      "percentage of the 2.4G device in New model dataset 0.3019032747058874\n"
     ]
    }
   ],
   "source": [
    "## Devices per freq_band\n",
    "new_model_value_24g = final_df.filter(col(\"new_freq_band\")=='2.4G').groupBy(\"new_freq_band\").count()\n",
    "new_model_pct_24g = new_model_value_24g.select('count').first()[0]/final_df.count()\n",
    "\n",
    "print(\"percentage of the 2.4G device in New model dataset\", new_model_pct_24g)"
   ]
  },
  {
   "cell_type": "code",
   "execution_count": 23,
   "metadata": {},
   "outputs": [
    {
     "name": "stdout",
     "output_type": "stream",
     "text": [
      "percentage of the 5G device in New model dataset 0.6980967252941126\n"
     ]
    }
   ],
   "source": [
    "## Devices per freq_band\n",
    "new_model_value_5g = final_df.filter(col(\"new_freq_band\")=='5G').groupBy(\"new_freq_band\").count()\n",
    "new_model_pct_5g = new_model_value_5g.select('count').first()[0]/final_df.count()\\\n",
    "\n",
    "print(\"percentage of the 5G device in New model dataset\", new_model_pct_5g)"
   ]
  },
  {
   "cell_type": "markdown",
   "metadata": {},
   "source": [
    "### Conclusion:\n",
    "\n",
    "\n"
   ]
  },
  {
   "cell_type": "markdown",
   "metadata": {},
   "source": [
    "1. Percetage of the 5G device in New model dataset 0.6980967252941126  \n",
    "2. Percetage of the 2.4G device in New model dataset 0.3019032747058874\n",
    "\n",
    "5G devices are expected to increase significantly in this case. \n",
    "The results are influnced with assumption made during the analysi and this is consider as basic analysis on the data. So, we can farther enhance the analysis with more discussions, SMEs help and better approaches  "
   ]
  },
  {
   "attachments": {},
   "cell_type": "markdown",
   "metadata": {},
   "source": [
    "### Next Steps\n",
    "\n",
    "    I need to understand more about the dataset and mapping.\n",
    "    Is there instance mapping when user is connecting multiple times in a day to wifi with different freq_band?\n",
    "    TV and Home appliance could be static while mobile and laptop can have dynamic connectivity as per user availability, Need to understand more these points\n"
   ]
  },
  {
   "attachments": {},
   "cell_type": "markdown",
   "metadata": {
    "collapsed": true
   },
   "source": [
    "### There are duplicate/multiple entries for 2.4GHz and 5Ghz for single Mac Address.\n",
    "\n",
    "    Mac addresses are unique to devices, so calculating the % of device truly connected with right freq_band needs more information.\n",
    "    Mac_address : This seems to be mac address of Wi-Fi device which will have signal for 5GHz and 2.4GHz so we will not use this feature for device % calculation\n",
    "    client_mac : This seems to be client device (ex. phone, laptop, tv) which will have connection for 5GHz and 2.4GHz so we will group by this feature for device % calculation\n"
   ]
  },
  {
   "cell_type": "code",
   "execution_count": null,
   "metadata": {
    "collapsed": true
   },
   "outputs": [],
   "source": []
  }
 ],
 "metadata": {
  "kernelspec": {
   "display_name": "Python 3",
   "language": "python",
   "name": "python3"
  },
  "language_info": {
   "codemirror_mode": {
    "name": "ipython",
    "version": 3
   },
   "file_extension": ".py",
   "mimetype": "text/x-python",
   "name": "python",
   "nbconvert_exporter": "python",
   "pygments_lexer": "ipython3",
   "version": "3.6.12"
  }
 },
 "nbformat": 4,
 "nbformat_minor": 2
}
